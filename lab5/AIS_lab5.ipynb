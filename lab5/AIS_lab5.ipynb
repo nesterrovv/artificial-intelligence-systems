{
  "nbformat": 4,
  "nbformat_minor": 0,
  "metadata": {
    "colab": {
      "provenance": []
    },
    "kernelspec": {
      "name": "python3",
      "display_name": "Python 3"
    },
    "language_info": {
      "name": "python"
    }
  },
  "cells": [
    {
      "cell_type": "code",
      "execution_count": 1,
      "metadata": {
        "colab": {
          "base_uri": "https://localhost:8080/"
        },
        "id": "2oDmH8UVs6O9",
        "outputId": "8460d604-0e2d-423d-80a8-f1dfbddc7239"
      },
      "outputs": [
        {
          "output_type": "stream",
          "name": "stdout",
          "text": [
            "Looking in indexes: https://pypi.org/simple, https://us-python.pkg.dev/colab-wheels/public/simple/\n",
            "Requirement already satisfied: pip in /usr/local/lib/python3.8/dist-packages (21.1.3)\n",
            "Collecting pip\n",
            "  Downloading pip-22.3.1-py3-none-any.whl (2.1 MB)\n",
            "\u001b[K     |████████████████████████████████| 2.1 MB 9.4 MB/s \n",
            "\u001b[?25hInstalling collected packages: pip\n",
            "  Attempting uninstall: pip\n",
            "    Found existing installation: pip 21.1.3\n",
            "    Uninstalling pip-21.1.3:\n",
            "      Successfully uninstalled pip-21.1.3\n",
            "Successfully installed pip-22.3.1\n",
            "Looking in indexes: https://pypi.org/simple, https://us-python.pkg.dev/colab-wheels/public/simple/\n",
            "Collecting scikit-learn==0.23.0\n",
            "  Downloading scikit_learn-0.23.0-cp38-cp38-manylinux1_x86_64.whl (7.2 MB)\n",
            "\u001b[2K     \u001b[90m━━━━━━━━━━━━━━━━━━━━━━━━━━━━━━━━━━━━━━━━\u001b[0m \u001b[32m7.2/7.2 MB\u001b[0m \u001b[31m11.0 MB/s\u001b[0m eta \u001b[36m0:00:00\u001b[0m\n",
            "\u001b[?25hRequirement already satisfied: threadpoolctl>=2.0.0 in /usr/local/lib/python3.8/dist-packages (from scikit-learn==0.23.0) (3.1.0)\n",
            "Requirement already satisfied: scipy>=0.19.1 in /usr/local/lib/python3.8/dist-packages (from scikit-learn==0.23.0) (1.7.3)\n",
            "Requirement already satisfied: joblib>=0.11 in /usr/local/lib/python3.8/dist-packages (from scikit-learn==0.23.0) (1.2.0)\n",
            "Requirement already satisfied: numpy>=1.13.3 in /usr/local/lib/python3.8/dist-packages (from scikit-learn==0.23.0) (1.21.6)\n",
            "Installing collected packages: scikit-learn\n",
            "  Attempting uninstall: scikit-learn\n",
            "    Found existing installation: scikit-learn 1.0.2\n",
            "    Uninstalling scikit-learn-1.0.2:\n",
            "      Successfully uninstalled scikit-learn-1.0.2\n",
            "\u001b[31mERROR: pip's dependency resolver does not currently take into account all the packages that are installed. This behaviour is the source of the following dependency conflicts.\n",
            "yellowbrick 1.5 requires scikit-learn>=1.0.0, but you have scikit-learn 0.23.0 which is incompatible.\n",
            "imbalanced-learn 0.8.1 requires scikit-learn>=0.24, but you have scikit-learn 0.23.0 which is incompatible.\u001b[0m\u001b[31m\n",
            "\u001b[0mSuccessfully installed scikit-learn-0.23.0\n",
            "\u001b[33mWARNING: Running pip as the 'root' user can result in broken permissions and conflicting behaviour with the system package manager. It is recommended to use a virtual environment instead: https://pip.pypa.io/warnings/venv\u001b[0m\u001b[33m\n",
            "\u001b[0m"
          ]
        }
      ],
      "source": [
        "!pip install --upgrade pip\n",
        "!pip install --upgrade scikit-learn==0.23.0\n",
        "import numpy as np\n",
        "import matplotlib\n",
        "import matplotlib.pyplot as plt\n",
        "%matplotlib inline\n"
      ]
    },
    {
      "cell_type": "markdown",
      "source": [
        "MNIST - датасет образцов рукописного написания цифр, является стандартом, предложенным Национальным институтом стандартов и технологий США с целью калибрации и сопоставления методов распознавания изображений с помощью машинного обучения. Образцы из набора NIST были нормализированы, прошли сглаживание и приведены к серому полутоновому изображению размером 28x28 пикселей."
      ],
      "metadata": {
        "id": "Zct8RVx1tDgc"
      }
    },
    {
      "cell_type": "code",
      "source": [
        "from keras.datasets import mnist\n",
        "(X_train, y_train), (X_pred, y_pred) = mnist.load_data()"
      ],
      "metadata": {
        "colab": {
          "base_uri": "https://localhost:8080/"
        },
        "id": "x9Huw7B5tGd6",
        "outputId": "5b934199-63f9-4a35-8e82-5b0dd988f6f1"
      },
      "execution_count": 2,
      "outputs": [
        {
          "output_type": "stream",
          "name": "stdout",
          "text": [
            "Downloading data from https://storage.googleapis.com/tensorflow/tf-keras-datasets/mnist.npz\n",
            "11490434/11490434 [==============================] - 0s 0us/step\n"
          ]
        }
      ]
    },
    {
      "cell_type": "markdown",
      "source": [
        "Первый элемент и его отклик"
      ],
      "metadata": {
        "id": "Z7BGqaBjtKdB"
      }
    },
    {
      "cell_type": "code",
      "source": [
        "plt.title(\"Нулевой объект из тренировочного набора:\")\n",
        "plt.imshow(X_train[0], cmap=\"gray\")\n",
        "y_train[0]"
      ],
      "metadata": {
        "colab": {
          "base_uri": "https://localhost:8080/",
          "height": 298
        },
        "id": "qciM1SixtM0J",
        "outputId": "731a32dc-91a2-4c45-d02e-ae1b64c8c008"
      },
      "execution_count": 3,
      "outputs": [
        {
          "output_type": "execute_result",
          "data": {
            "text/plain": [
              "5"
            ]
          },
          "metadata": {},
          "execution_count": 3
        },
        {
          "output_type": "display_data",
          "data": {
            "text/plain": [
              "<Figure size 432x288 with 1 Axes>"
            ],
            "image/png": "[encoded data removed]"
          },
          "metadata": {
            "needs_background": "light"
          }
        }
      ]
    },
    {
      "cell_type": "markdown",
      "source": [
        "Для разделения данных используем функцию train_test_split из библиотеки sklearn. Следующий код разделяет исходные данные в отношении 70/30."
      ],
      "metadata": {
        "id": "wRtd4ZOatPaB"
      }
    },
    {
      "cell_type": "code",
      "source": [
        "from sklearn.model_selection import train_test_split\n",
        "X_train, X_test, y_train, y_test = train_test_split(X_train, y_train, test_size=0.3, random_state=2020)\n"
      ],
      "metadata": {
        "id": "-iPxa_brtRxp"
      },
      "execution_count": 4,
      "outputs": []
    },
    {
      "cell_type": "markdown",
      "source": [
        "Преобразуем данные"
      ],
      "metadata": {
        "id": "sK1CetKrtUoh"
      }
    },
    {
      "cell_type": "code",
      "source": [
        "dim = 784 # 28*28 \n",
        "X_train = X_train.reshape(len(X_train), dim)\n",
        "X_test = X_test.reshape(len(X_test), dim)\n"
      ],
      "metadata": {
        "id": "GTaGeWoEtXIR"
      },
      "execution_count": 5,
      "outputs": []
    },
    {
      "cell_type": "markdown",
      "source": [
        "Уменьшим размерность тестовых данных и найдем долю объясненной дисперсии в зависимости от количества используемых ГК"
      ],
      "metadata": {
        "id": "_v2hHuOqtcdx"
      }
    },
    {
      "cell_type": "code",
      "source": [
        "from sklearn.decomposition import PCA\n",
        "gold_disp = 0.8 + 17 % 10 # необходимая долю объясненной дисперсии\n",
        "pca = PCA(n_components=50, svd_solver='full') # перебираем n_components, пока один из элементов explained_variance не станет больше gold_disp\n",
        "modelPCA = pca.fit(X_train) \n",
        "X_train = modelPCA.transform(X_train)\n",
        "explained_variance = np.round(np.cumsum(pca.explained_variance_ratio_),3)\n",
        "print(any(i >= gold_disp for i in explained_variance)) # функция, которая выведет True если Д.О.С. достигла нужного значения\n",
        "print(explained_variance)\n",
        "plt.plot(np.arange(50), explained_variance, ls = '-')\n"
      ],
      "metadata": {
        "colab": {
          "base_uri": "https://localhost:8080/",
          "height": 387
        },
        "id": "MY9AToeEtdkh",
        "outputId": "a5fb0768-c421-45b9-f731-764605d4efa7"
      },
      "execution_count": 6,
      "outputs": [
        {
          "output_type": "stream",
          "name": "stdout",
          "text": [
            "False\n",
            "[0.098 0.168 0.23  0.284 0.333 0.375 0.408 0.437 0.464 0.488 0.509 0.53\n",
            " 0.547 0.564 0.579 0.594 0.608 0.62  0.632 0.644 0.654 0.664 0.674 0.683\n",
            " 0.692 0.7   0.708 0.716 0.724 0.731 0.737 0.744 0.75  0.756 0.761 0.767\n",
            " 0.772 0.777 0.781 0.786 0.791 0.795 0.799 0.803 0.807 0.811 0.815 0.818\n",
            " 0.821 0.825]\n"
          ]
        },
        {
          "output_type": "execute_result",
          "data": {
            "text/plain": [
              "[<matplotlib.lines.Line2D at 0x7fef6c81caf0>]"
            ]
          },
          "metadata": {},
          "execution_count": 6
        },
        {
          "output_type": "display_data",
          "data": {
            "text/plain": [
              "<Figure size 432x288 with 1 Axes>"
            ],
            "image/png": "[encoded data removed]"
          },
          "metadata": {
            "needs_background": "light"
          }
        }
      ]
    },
    {
      "cell_type": "markdown",
      "source": [
        "Подключаем библиотеку для обучения многоклассового классификатора методом One-vs-All и дерево принятия решений"
      ],
      "metadata": {
        "id": "TMYGwUD3uvPB"
      }
    },
    {
      "cell_type": "code",
      "source": [
        "from sklearn.multiclass import OneVsRestClassifier\n",
        "from sklearn.tree import DecisionTreeClassifier\n",
        "from sklearn.ensemble import RandomForestClassifier\n",
        "tree = RandomForestClassifier(criterion='gini', min_samples_leaf=10, max_depth=20, n_estimators=10, random_state=2022)\n",
        "clf = OneVsRestClassifier(tree).fit(X_train, y_train)"
      ],
      "metadata": {
        "id": "2vckQtwLu-FJ"
      },
      "execution_count": 19,
      "outputs": []
    },
    {
      "cell_type": "markdown",
      "source": [
        "Примените полученное ранее преобразование метода главных компонент к тестовым данным"
      ],
      "metadata": {
        "id": "I9yr8RFwvAZD"
      }
    },
    {
      "cell_type": "code",
      "source": [
        "modelPCA = pca.fit(X_test) \n",
        "X_test = modelPCA.transform(X_test)\n",
        "y_pred = clf.predict(X_test)\n",
        "from sklearn.metrics import confusion_matrix\n",
        "CM = confusion_matrix(y_test, y_pred)\n",
        "CM"
      ],
      "metadata": {
        "colab": {
          "base_uri": "https://localhost:8080/"
        },
        "id": "hLErWtWsvCqw",
        "outputId": "73f9001c-db24-41c8-bce6-edc1f8cc7df1"
      },
      "execution_count": 20,
      "outputs": [
        {
          "output_type": "execute_result",
          "data": {
            "text/plain": [
              "array([[1345,    0,   83,   51,    4,   68,   49,   26,   64,    3],\n",
              "       [   1, 1872,   44,   22,    9,    9,   67,   29,   15,    7],\n",
              "       [  57,    9,  929,   76,   60,   67,  394,   15,  144,   12],\n",
              "       [  23,    5,   56, 1506,   17,   84,    4,   31,  117,   30],\n",
              "       [   8,   11,   57,    5, 1380,   17,   50,   30,   79,  119],\n",
              "       [ 125,    4,  175,  237,   60,  596,   17,   57,  298,   22],\n",
              "       [  29,   24,  902,   31,   31,   21,  593,   29,   82,   24],\n",
              "       [  58,   38,   16,   15,   55,   31,   79, 1448,   50,   96],\n",
              "       [  22,   27,  104,  404,   61,  402,   30,   25,  585,  113],\n",
              "       [  24,   11,   28,   55,  413,   45,   47,  180,  200,  821]])"
            ]
          },
          "metadata": {},
          "execution_count": 20
        }
      ]
    },
    {
      "cell_type": "markdown",
      "source": [
        "Число объектов класс 0 отнесенных к классу _[номер в списке]_%9"
      ],
      "metadata": {
        "id": "USj7JgmHvFhZ"
      }
    },
    {
      "cell_type": "code",
      "source": [
        "var_class = 17 % 9\n",
        "CM[var_class][var_class]"
      ],
      "metadata": {
        "colab": {
          "base_uri": "https://localhost:8080/"
        },
        "id": "2aXfbYvQvne1",
        "outputId": "c0e4e01a-6426-4da2-9c3e-e394f40f333a"
      },
      "execution_count": 21,
      "outputs": [
        {
          "output_type": "execute_result",
          "data": {
            "text/plain": [
              "585"
            ]
          },
          "metadata": {},
          "execution_count": 21
        }
      ]
    },
    {
      "cell_type": "markdown",
      "source": [
        "Определите Accuracy, Precision, Recall или F1 для обученной модели"
      ],
      "metadata": {
        "id": "nQ191Kbyv_VU"
      }
    },
    {
      "cell_type": "code",
      "source": [
        "from sklearn.metrics import classification_report\n",
        "print(classification_report(y_test, y_pred))"
      ],
      "metadata": {
        "colab": {
          "base_uri": "https://localhost:8080/"
        },
        "id": "AzO6vgb6wAt8",
        "outputId": "9f0be02c-8a0c-47c3-b6a1-b16d6e67862d"
      },
      "execution_count": 22,
      "outputs": [
        {
          "output_type": "stream",
          "name": "stdout",
          "text": [
            "              precision    recall  f1-score   support\n",
            "\n",
            "           0       0.79      0.79      0.79      1693\n",
            "           1       0.94      0.90      0.92      2075\n",
            "           2       0.39      0.53      0.45      1763\n",
            "           3       0.63      0.80      0.70      1873\n",
            "           4       0.66      0.79      0.72      1756\n",
            "           5       0.44      0.37      0.41      1591\n",
            "           6       0.45      0.34      0.38      1766\n",
            "           7       0.77      0.77      0.77      1886\n",
            "           8       0.36      0.33      0.34      1773\n",
            "           9       0.66      0.45      0.53      1824\n",
            "\n",
            "    accuracy                           0.62     18000\n",
            "   macro avg       0.61      0.61      0.60     18000\n",
            "weighted avg       0.62      0.62      0.61     18000\n",
            "\n"
          ]
        }
      ]
    }
  ]
}