{
  "cells": [
    {
      "cell_type": "markdown",
      "metadata": {
        "id": "1BwnnMgcu2Sy"
      },
      "source": [
        "# Import dependencies"
      ]
    },
    {
      "cell_type": "code",
      "execution_count": 1,
      "metadata": {
        "collapsed": true,
        "id": "H0Ga2Cr6u2S2"
      },
      "outputs": [],
      "source": [
        "from keras.models import Sequential\n",
        "from keras.layers import Dense, Activation\n",
        "from keras.callbacks import Callback\n",
        "from keras import regularizers\n",
        "from tensorflow.keras import optimizers\n",
        "\n",
        "from functools import partial\n",
        "\n",
        "%matplotlib inline\n",
        "import matplotlib.pyplot as plt\n",
        "from ipywidgets import *\n",
        "\n",
        "import numpy as np"
      ]
    },
    {
      "cell_type": "markdown",
      "metadata": {
        "id": "eVNUfNJRu2S4"
      },
      "source": [
        "# Generate data"
      ]
    },
    {
      "cell_type": "code",
      "execution_count": 2,
      "metadata": {
        "collapsed": true,
        "id": "ywXK2l8wu2S4"
      },
      "outputs": [],
      "source": [
        "# Dot count \n",
        "samples = 1000\n",
        "test_n = 200"
      ]
    },
    {
      "cell_type": "code",
      "execution_count": 3,
      "metadata": {
        "collapsed": true,
        "id": "pNmmNekwu2S5"
      },
      "outputs": [],
      "source": [
        "# X interval\n",
        "x_int = (-6.3, 6.3)\n",
        "# Y interval\n",
        "y_int = (0, 1.2)"
      ]
    },
    {
      "cell_type": "code",
      "execution_count": 4,
      "metadata": {
        "colab": {
          "base_uri": "https://localhost:8080/"
        },
        "id": "tEKY-qgMu2S5",
        "outputId": "2ce452d1-8dba-49bb-e7f1-4b8ddc950c6f"
      },
      "outputs": [
        {
          "output_type": "stream",
          "name": "stdout",
          "text": [
            "[[-2.35217625  0.61824432]\n",
            " [-0.32508182  0.55287515]\n",
            " [ 5.40386459  0.5863443 ]\n",
            " ...\n",
            " [ 1.27610735  0.55295073]\n",
            " [ 3.12456158  0.86547219]\n",
            " [-0.88792843  1.0011189 ]]\n"
          ]
        }
      ],
      "source": [
        "# Generate\n",
        "data = [(np.random.random() * (x_int[1] - x_int[0]) + x_int[0], \n",
        "                  np.random.random() * (y_int[1] - y_int[0]) + y_int[0]) for i in range(samples + test_n)]\n",
        "#print(data)\n",
        "train_data = np.array(data[test_n:])\n",
        "test_data = np.array(data[:test_n])\n",
        "print(train_data)"
      ]
    },
    {
      "cell_type": "code",
      "execution_count": 5,
      "metadata": {
        "collapsed": true,
        "id": "T2xZyo9Bu2S6"
      },
      "outputs": [],
      "source": [
        "\n",
        "# Your variant function\n",
        "def main_func(x):\n",
        "    return np.abs(np.sin(x))\n",
        "def main_func_noisy(x):\n",
        "    return main_func(x) + np.cos(4*x + 1) / 5\n",
        "\n",
        "def result_func(xy):\n",
        "    return main_func(xy[0]) > xy[1]\n",
        "\n",
        "def result_func_noisy(xy):\n",
        "    return main_func_noisy(xy[0]) > xy[1]"
      ]
    },
    {
      "cell_type": "code",
      "execution_count": 6,
      "metadata": {
        "colab": {
          "base_uri": "https://localhost:8080/"
        },
        "id": "2Pwfox6lu2S7",
        "outputId": "1c0ab288-ebda-450d-97d1-6f8fa5706958"
      },
      "outputs": [
        {
          "output_type": "stream",
          "name": "stdout",
          "text": [
            "(1000,)\n",
            "(200,)\n"
          ]
        }
      ],
      "source": [
        "train_answers = np.apply_along_axis(result_func_noisy, arr=train_data, axis=1)\n",
        "#answers = np.reshape(answers, (samples,1))\n",
        "print(train_answers.shape)\n",
        "\n",
        "test_answers = np.apply_along_axis(result_func, arr=test_data, axis=1)\n",
        "print(test_answers.shape)"
      ]
    },
    {
      "cell_type": "code",
      "execution_count": 7,
      "metadata": {
        "colab": {
          "base_uri": "https://localhost:8080/"
        },
        "id": "Xxzlqt9hu2S8",
        "outputId": "d05ba32c-cb02-4e07-be66-278b5cf3b110"
      },
      "outputs": [
        {
          "output_type": "stream",
          "name": "stdout",
          "text": [
            "(513, 2)\n",
            "(487, 2)\n"
          ]
        }
      ],
      "source": [
        "train_data_true = train_data[train_answers]\n",
        "train_data_false = train_data[np.logical_not(train_answers)]\n",
        "print(train_data_true.shape)\n",
        "print(train_data_false.shape)"
      ]
    },
    {
      "cell_type": "markdown",
      "metadata": {
        "id": "3YW-SZ6Cu2S9"
      },
      "source": [
        "## Plot drawing"
      ]
    },
    {
      "cell_type": "code",
      "execution_count": 8,
      "metadata": {
        "colab": {
          "base_uri": "https://localhost:8080/",
          "height": 282
        },
        "id": "9SH_1RYGu2S9",
        "outputId": "71be5bf8-8c60-44a1-b58c-cd54e0cf27e8"
      },
      "outputs": [
        {
          "output_type": "execute_result",
          "data": {
            "text/plain": [
              "[<matplotlib.lines.Line2D at 0x7fc047e498d0>]"
            ]
          },
          "metadata": {},
          "execution_count": 8
        },
        {
          "output_type": "display_data",
          "data": {
            "text/plain": [
              "<Figure size 432x288 with 1 Axes>"
            ],
            "image/png": "[encoded data removed]"
          },
          "metadata": {
            "needs_background": "light"
          }
        }
      ],
      "source": [
        "fig, ax = plt.subplots()\n",
        "\n",
        "xx = np.linspace(*x_int, 100)\n",
        "\n",
        "ax.plot(train_data_true[:,0], train_data_true[:,1], 'g.')\n",
        "ax.plot(train_data_false[:,0], train_data_false[:,1], 'r.')\n",
        "ax.plot(xx, main_func(xx), 'b--')\n",
        "ax.plot(xx, main_func_noisy(xx), 'y-')"
      ]
    },
    {
      "cell_type": "markdown",
      "metadata": {
        "id": "akKVGDxju2S9"
      },
      "source": [
        "## Experimentation"
      ]
    },
    {
      "cell_type": "markdown",
      "metadata": {
        "id": "SUKxcU2Xu2S-"
      },
      "source": [
        "Plot drawing"
      ]
    },
    {
      "cell_type": "code",
      "execution_count": 9,
      "metadata": {
        "collapsed": true,
        "id": "MOLkcONBu2S-"
      },
      "outputs": [],
      "source": [
        "def plot_accuracy(history):\n",
        "    # Plot training & validation accuracy values\n",
        "    plt.plot(history.history['accuracy'])\n",
        "    plt.plot(history.history['val_accuracy'])\n",
        "    plt.title('Model accuracy')\n",
        "    plt.ylabel('Accuracy')\n",
        "    plt.xlabel('Epoch')\n",
        "    plt.legend(['Train', 'Test'], loc='upper left')\n",
        "    plt.show()\n",
        "\n",
        "    # Plot training & validation loss values\n",
        "    plt.plot(history.history['loss'])\n",
        "    plt.plot(history.history['val_loss'])\n",
        "    plt.title('Model loss')\n",
        "    plt.ylabel('Loss')\n",
        "    plt.xlabel('Epoch')\n",
        "    plt.legend(['Train', 'Test'], loc='upper left')\n",
        "    plt.show()"
      ]
    },
    {
      "cell_type": "markdown",
      "metadata": {
        "id": "W8Kx1g8hu2S_"
      },
      "source": [
        "Setting parameters and contur plot drawing"
      ]
    },
    {
      "cell_type": "code",
      "execution_count": 10,
      "metadata": {
        "collapsed": true,
        "id": "Jl9XqwBUu2S_"
      },
      "outputs": [],
      "source": [
        "def plot_contour_graph(model):\n",
        "    xx = np.linspace(*x_int, 100)\n",
        "    yy = np.linspace(*y_int, 200)\n",
        "\n",
        "    xm, ym = np.meshgrid(xx, yy)\n",
        "    xys = np.array([xm, ym]).reshape((2, -1))\n",
        "\n",
        "    z_actual = result_func(xys).reshape(200,100)\n",
        "\n",
        "    xys = np.moveaxis(xys, 0, 1)\n",
        "    z = model.predict(xys).reshape(200, 100)\n",
        "\n",
        "    \n",
        "    plt.contourf(xm, ym, z)\n",
        "    plt.title('Neural net vision of the function')\n",
        "    plt.colorbar()\n",
        "    plt.show()\n",
        "    \n",
        "    plt.contourf(xm, ym, z_actual)\n",
        "    plt.title('Actual function')\n",
        "    plt.colorbar()\n",
        "    plt.show()"
      ]
    },
    {
      "cell_type": "code",
      "execution_count": 11,
      "metadata": {
        "scrolled": false,
        "colab": {
          "base_uri": "https://localhost:8080/",
          "height": 1000,
          "referenced_widgets": [
            "693821f9222643fbb45a8578a8e9db9c",
            "413066aa39f148b186fd5810f99ffb3b",
            "bfe793b57665405694645efb9073b6d5",
            "586d1d29c3f74a4eb169fc751ca83c72",
            "d49f9a2772df4e62ab86d2029511e676",
            "108ca69e4c9d4b4f820fe8f958b242bb",
            "8ca8bef45c3044979bca9f1c8bb85582",
            "6791726101a647a8853ff219f3a34354",
            "ee57f5ea82504007ae7da3286f82163c",
            "de0cc81e65ec4e78b4e13e3157417245",
            "ffdd933e09504cb3ace10cfb19802e6a",
            "7c8dd5d0b5d64f2882b159ab6d06a1bb",
            "c1f42558dbc04a2f9e67d0c9335d0895",
            "90b2e7e9a52144d8ba3ebe2a39c8ecbc",
            "42dff99db5ae4436a9424665418d7ac0",
            "1726c327701d473382ebefcec08295a4",
            "43172d6c44f440418444269d065d4bc4",
            "a433d16a3e8040a1b03a17298dd6b86c",
            "33a117be986c4041a8529e1af5ab5291",
            "cae3e30650c34387b951c9e205c870c7",
            "ebfe4e200a3b4038934654a41d392dad",
            "0389a6fea2d548cfb83c7d1b1f91c5e9",
            "62cbf9e0bdf14c33b87c00295f283ddf",
            "d638b677bc8742bba0e0e51ffc933170",
            "7c1666808487463dbec7312d895adb22",
            "a9bd77f48cc04b3499ce8e111b717f17",
            "6cb17acd899246ba85bf8599494c2a4b",
            "da21490a25134255b60a54dfbccfcaab",
            "45db281efaba4fb7a3d964c11dee0c66",
            "545e0e7650244d3d99c05e288ce162bc",
            "9a3ae54a08974c9eb761b649208e564a",
            "3c6a3f59cc77453cb6c66ec34f70b9ff",
            "f81f07edfc834d548cc5e8269d0c7115",
            "20adeb2fe155499898f971163c387e79",
            "5de4e6cab628406a995bd7b1e683db8a",
            "225ad53cc4ba4ae48c91782d01207337",
            "0968924b6bec47f3bc8ac29ced178264",
            "157b78f37c8948f7935bc174197ea17f",
            "7f67984111164b3c917796db07138c07",
            "9668b01639624200808e5de864eebc17",
            "2d64a630f30c4051943fcfe86ccf1376",
            "198ca05f7cac45068c5591e2d8b75a7b",
            "b1aea40f8df24351bf5cfc8e1269562a",
            "aaa4cebc952747988fafa545c5c1e563",
            "623fc63f36ed4da9b9ff3115da30f132",
            "9f23448c4709440bb8b4aef42032352e",
            "31938de0c9784f9386951a819a766099",
            "d55b383020db4697ba4e7f4ea4832d36",
            "b1aab111a5454ab78a72a5f7cf19806a",
            "9a6026302c784ac78cf3aec66d162f84",
            "7ada92e02af54a608d913756353848b7",
            "8f3076d05fb0448ea76d61121f848e79",
            "e35a943c14cf4b17880f66a8843b31d9",
            "a2c416f2de1f4342af3029da5caecf8a",
            "dd12268b2da0448ca7cf4760ed3da83b"
          ]
        },
        "id": "1iIjI3tYu2S_",
        "outputId": "e03d13de-bed5-460c-de90-aa1f9fd53922"
      },
      "outputs": [
        {
          "output_type": "display_data",
          "data": {
            "text/plain": [
              "interactive(children=(IntSlider(value=2, description='Слоев: ', max=4), Dropdown(description='Loss function: '…"
            ],
            "application/vnd.jupyter.widget-view+json": {
              "version_major": 2,
              "version_minor": 0,
              "model_id": "693821f9222643fbb45a8578a8e9db9c"
            }
          },
          "metadata": {}
        }
      ],
      "source": [
        "style = {'description_width': 'initial'}\n",
        "@interact_manual(\n",
        "    n_layers = IntSlider(min=0, max=4, value=2, description='Слоев: '),\n",
        "    layer1_size = IntSlider(min=0, max=20, value=6, description='Neurons count in layer 1: ', style=style),\n",
        "    layer2_size = IntSlider(min=0, max=20, value=3, description='Neurons count in layer 2: ', style=style),\n",
        "    layer3_size = IntSlider(min=0, max=20, value=0, description='Neurons count in layer 1: ', style=style),\n",
        "    layer4_size = IntSlider(min=0, max=20, value=0, description='Neurons count in layer 1: ', style=style),\n",
        "    layer1_type = Dropdown(options=['softmax', 'relu', 'tanh', 'sigmoid', 'linear'], value='relu',\n",
        "                          description='Layer 1 activation type: ', style=style),\n",
        "    layer2_type = Dropdown(options=['softmax', 'relu', 'tanh', 'sigmoid', 'linear'], value='relu',\n",
        "                          description='Layer 2 activation type: ', style=style),\n",
        "    layer3_type = Dropdown(options=['softmax', 'relu', 'tanh', 'sigmoid', 'linear'], value='relu',\n",
        "                          description='Layer 3 activation type: ', style=style),\n",
        "    layer4_type = Dropdown(options=['softmax', 'relu', 'tanh', 'sigmoid', 'linear'], value='relu',\n",
        "                          description='Layer 4 activation type: ', style=style),\n",
        "    layer_out_type = Dropdown(options=['softmax', 'relu', 'tanh', 'sigmoid', 'linear'], value='sigmoid',\n",
        "                          description='Output layer activation type: ', style=style),\n",
        "    loss_func = Dropdown(options={\n",
        "        'Standard deviation': 'mse', \n",
        "        'Mean absolute deviation': 'mae',\n",
        "        'Binary crossentropy': 'binary_crossentropy'\n",
        "    }, value='binary_crossentropy', description='Loss function: ', style=style),\n",
        "    epochs = IntSlider(min=10, max=10000, step=10, value=300, description='Epoch count: ', style=style),\n",
        "    batch_size = IntSlider(min=0, max=len(data), value=100, description='Batch size: ', style=style),\n",
        "    lr = ToggleButtons(options=[\"-0.1\", \"0\", \"0.001\", \"0.01\", \"0.05\", \"0.1\", \"0.5\", \"1\", \"5\"], \n",
        "                               value=\"0.01\", description='Learn rate: ', style=style),\n",
        "    l1=ToggleButtons(options=[\"-0.1\", \"0\", \"0.0001\", \"0.0005\", \"0.001\", \"0.005\", \"0.01\", \"0.05\", \"0.1\"], \n",
        "                               value=\"0.0001\", description='Regularization  L1: ', style=style),\n",
        "    l2=ToggleButtons(options=[\"-0.1\", \"0\", \"0.0001\", \"0.0005\", \"0.001\", \"0.005\", \"0.01\", \"0.05\", \"0.1\"], \n",
        "                               value=\"0.0001\", description='Regularization  L2: ', style=style)\n",
        ")\n",
        "def interactive_learning(n_layers, loss_func, batch_size, lr, l1, l2, layer_out_type, epochs,\n",
        "                         layer1_size, layer2_size, layer3_size, layer4_size,\n",
        "                         layer1_type, layer2_type, layer3_type, layer4_type):\n",
        "    layer_sizes = [layer1_size, layer2_size, layer3_size, layer4_size]\n",
        "    layer_types = [layer1_type, layer2_type, layer3_type, layer4_type]\n",
        "    lr = float(lr)\n",
        "    l1 = float(l1)\n",
        "    l2 = float(l2)\n",
        "    \n",
        "    model = Sequential()\n",
        "    \n",
        "    if n_layers == 0:\n",
        "        model.add(Dense(1, activation=layer_out_type, \n",
        "                        input_shape=(2,), kernel_regularizer=regularizers.l1_l2(l1=l1, l2=l2)))\n",
        "    else:\n",
        "        model.add(Dense(layer_sizes[0], activation=layer_types[0], \n",
        "                        input_shape=(2,), kernel_regularizer=regularizers.l1_l2(l1=l1, l2=l2)))\n",
        "        for i in range(1, n_layers):\n",
        "            model.add(Dense(layer_sizes[i], activation=layer_types[i],\n",
        "                           kernel_regularizer=regularizers.l1_l2(l1=l1, l2=l2)))\n",
        "        model.add(Dense(1, activation=layer_out_type, kernel_regularizer=regularizers.l1_l2(l1=l1, l2=l2)))\n",
        "    \n",
        "    model.compile(\n",
        "     optimizer = optimizers.SGD(lr=lr),\n",
        "     loss = loss_func,\n",
        "     metrics = [\"accuracy\"]\n",
        "    )\n",
        "    \n",
        "    \n",
        "    history = model.fit(\n",
        "     train_data, train_answers,\n",
        "     epochs=epochs,\n",
        "     batch_size=batch_size,\n",
        "     validation_data=(test_data, test_answers),\n",
        "     verbose=0\n",
        "    )\n",
        "    print(history.history.keys())\n",
        "    print('Accuracy: ', history.history['val_accuracy'][-1])\n",
        "    plot_accuracy(history)\n",
        "    plot_contour_graph(model)"
      ]
    },
    {
      "cell_type": "code",
      "execution_count": null,
      "metadata": {
        "collapsed": true,
        "id": "dCV_Nzqgu2TB"
      },
      "outputs": [],
      "source": []
    }
  ],
  "metadata": {
    "kernelspec": {
      "display_name": "Python 3",
      "language": "python",
      "name": "python3"
    },
    "language_info": {
      "codemirror_mode": {
        "name": "ipython",
        "version": 3
      },
      "file_extension": ".py",
      "mimetype": "text/x-python",
      "name": "python",
      "nbconvert_exporter": "python",
      "pygments_lexer": "ipython3",
      "version": "3.7.0"
    },
    "colab": {
      "provenance": []
    },
    "widgets": {
      "application/vnd.jupyter.widget-state+json": {
        "693821f9222643fbb45a8578a8e9db9c": {
          "model_module": "@jupyter-widgets/controls",
          "model_name": "VBoxModel",
          "model_module_version": "1.5.0",
          "state": {
            "_dom_classes": [
              "widget-interact"
            ],
            "_model_module": "@jupyter-widgets/controls",
            "_model_module_version": "1.5.0",
            "_model_name": "VBoxModel",
            "_view_count": null,
            "_view_module": "@jupyter-widgets/controls",
            "_view_module_version": "1.5.0",
            "_view_name": "VBoxView",
            "box_style": "",
            "children": [
              "IPY_MODEL_413066aa39f148b186fd5810f99ffb3b",
              "IPY_MODEL_bfe793b57665405694645efb9073b6d5",
              "IPY_MODEL_586d1d29c3f74a4eb169fc751ca83c72",
              "IPY_MODEL_d49f9a2772df4e62ab86d2029511e676",
              "IPY_MODEL_108ca69e4c9d4b4f820fe8f958b242bb",
              "IPY_MODEL_8ca8bef45c3044979bca9f1c8bb85582",
              "IPY_MODEL_6791726101a647a8853ff219f3a34354",
              "IPY_MODEL_ee57f5ea82504007ae7da3286f82163c",
              "IPY_MODEL_de0cc81e65ec4e78b4e13e3157417245",
              "IPY_MODEL_ffdd933e09504cb3ace10cfb19802e6a",
              "IPY_MODEL_7c8dd5d0b5d64f2882b159ab6d06a1bb",
              "IPY_MODEL_c1f42558dbc04a2f9e67d0c9335d0895",
              "IPY_MODEL_90b2e7e9a52144d8ba3ebe2a39c8ecbc",
              "IPY_MODEL_42dff99db5ae4436a9424665418d7ac0",
              "IPY_MODEL_1726c327701d473382ebefcec08295a4",
              "IPY_MODEL_43172d6c44f440418444269d065d4bc4",
              "IPY_MODEL_a433d16a3e8040a1b03a17298dd6b86c",
              "IPY_MODEL_33a117be986c4041a8529e1af5ab5291"
            ],
            "layout": "IPY_MODEL_cae3e30650c34387b951c9e205c870c7"
          }
        },
        "413066aa39f148b186fd5810f99ffb3b": {
          "model_module": "@jupyter-widgets/controls",
          "model_name": "IntSliderModel",
          "model_module_version": "1.5.0",
          "state": {
            "_dom_classes": [],
            "_model_module": "@jupyter-widgets/controls",
            "_model_module_version": "1.5.0",
            "_model_name": "IntSliderModel",
            "_view_count": null,
            "_view_module": "@jupyter-widgets/controls",
            "_view_module_version": "1.5.0",
            "_view_name": "IntSliderView",
            "continuous_update": true,
            "description": "Слоев: ",
            "description_tooltip": null,
            "disabled": false,
            "layout": "IPY_MODEL_ebfe4e200a3b4038934654a41d392dad",
            "max": 4,
            "min": 0,
            "orientation": "horizontal",
            "readout": true,
            "readout_format": "d",
            "step": 1,
            "style": "IPY_MODEL_0389a6fea2d548cfb83c7d1b1f91c5e9",
            "value": 2
          }
        },
        "bfe793b57665405694645efb9073b6d5": {
          "model_module": "@jupyter-widgets/controls",
          "model_name": "DropdownModel",
          "model_module_version": "1.5.0",
          "state": {
            "_dom_classes": [],
            "_model_module": "@jupyter-widgets/controls",
            "_model_module_version": "1.5.0",
            "_model_name": "DropdownModel",
            "_options_labels": [
              "Standard deviation",
              "Mean absolute deviation",
              "Binary crossentropy"
            ],
            "_view_count": null,
            "_view_module": "@jupyter-widgets/controls",
            "_view_module_version": "1.5.0",
            "_view_name": "DropdownView",
            "description": "Loss function: ",
            "description_tooltip": null,
            "disabled": false,
            "index": 2,
            "layout": "IPY_MODEL_62cbf9e0bdf14c33b87c00295f283ddf",
            "style": "IPY_MODEL_d638b677bc8742bba0e0e51ffc933170"
          }
        },
        "586d1d29c3f74a4eb169fc751ca83c72": {
          "model_module": "@jupyter-widgets/controls",
          "model_name": "IntSliderModel",
          "model_module_version": "1.5.0",
          "state": {
            "_dom_classes": [],
            "_model_module": "@jupyter-widgets/controls",
            "_model_module_version": "1.5.0",
            "_model_name": "IntSliderModel",
            "_view_count": null,
            "_view_module": "@jupyter-widgets/controls",
            "_view_module_version": "1.5.0",
            "_view_name": "IntSliderView",
            "continuous_update": true,
            "description": "Batch size: ",
            "description_tooltip": null,
            "disabled": false,
            "layout": "IPY_MODEL_7c1666808487463dbec7312d895adb22",
            "max": 1200,
            "min": 0,
            "orientation": "horizontal",
            "readout": true,
            "readout_format": "d",
            "step": 1,
            "style": "IPY_MODEL_a9bd77f48cc04b3499ce8e111b717f17",
            "value": 100
          }
        },
        "d49f9a2772df4e62ab86d2029511e676": {
          "model_module": "@jupyter-widgets/controls",
          "model_name": "ToggleButtonsModel",
          "model_module_version": "1.5.0",
          "state": {
            "_dom_classes": [],
            "_model_module": "@jupyter-widgets/controls",
            "_model_module_version": "1.5.0",
            "_model_name": "ToggleButtonsModel",
            "_options_labels": [
              "-0.1",
              "0",
              "0.001",
              "0.01",
              "0.05",
              "0.1",
              "0.5",
              "1",
              "5"
            ],
            "_view_count": null,
            "_view_module": "@jupyter-widgets/controls",
            "_view_module_version": "1.5.0",
            "_view_name": "ToggleButtonsView",
            "button_style": "",
            "description": "Learn rate: ",
            "description_tooltip": null,
            "disabled": false,
            "icons": [],
            "index": 5,
            "layout": "IPY_MODEL_6cb17acd899246ba85bf8599494c2a4b",
            "style": "IPY_MODEL_da21490a25134255b60a54dfbccfcaab",
            "tooltips": []
          }
        },
        "108ca69e4c9d4b4f820fe8f958b242bb": {
          "model_module": "@jupyter-widgets/controls",
          "model_name": "ToggleButtonsModel",
          "model_module_version": "1.5.0",
          "state": {
            "_dom_classes": [],
            "_model_module": "@jupyter-widgets/controls",
            "_model_module_version": "1.5.0",
            "_model_name": "ToggleButtonsModel",
            "_options_labels": [
              "-0.1",
              "0",
              "0.0001",
              "0.0005",
              "0.001",
              "0.005",
              "0.01",
              "0.05",
              "0.1"
            ],
            "_view_count": null,
            "_view_module": "@jupyter-widgets/controls",
            "_view_module_version": "1.5.0",
            "_view_name": "ToggleButtonsView",
            "button_style": "",
            "description": "Regularization  L1: ",
            "description_tooltip": null,
            "disabled": false,
            "icons": [],
            "index": 2,
            "layout": "IPY_MODEL_45db281efaba4fb7a3d964c11dee0c66",
            "style": "IPY_MODEL_545e0e7650244d3d99c05e288ce162bc",
            "tooltips": []
          }
        },
        "8ca8bef45c3044979bca9f1c8bb85582": {
          "model_module": "@jupyter-widgets/controls",
          "model_name": "ToggleButtonsModel",
          "model_module_version": "1.5.0",
          "state": {
            "_dom_classes": [],
            "_model_module": "@jupyter-widgets/controls",
            "_model_module_version": "1.5.0",
            "_model_name": "ToggleButtonsModel",
            "_options_labels": [
              "-0.1",
              "0",
              "0.0001",
              "0.0005",
              "0.001",
              "0.005",
              "0.01",
              "0.05",
              "0.1"
            ],
            "_view_count": null,
            "_view_module": "@jupyter-widgets/controls",
            "_view_module_version": "1.5.0",
            "_view_name": "ToggleButtonsView",
            "button_style": "",
            "description": "Regularization  L2: ",
            "description_tooltip": null,
            "disabled": false,
            "icons": [],
            "index": 4,
            "layout": "IPY_MODEL_9a3ae54a08974c9eb761b649208e564a",
            "style": "IPY_MODEL_3c6a3f59cc77453cb6c66ec34f70b9ff",
            "tooltips": []
          }
        },
        "6791726101a647a8853ff219f3a34354": {
          "model_module": "@jupyter-widgets/controls",
          "model_name": "DropdownModel",
          "model_module_version": "1.5.0",
          "state": {
            "_dom_classes": [],
            "_model_module": "@jupyter-widgets/controls",
            "_model_module_version": "1.5.0",
            "_model_name": "DropdownModel",
            "_options_labels": [
              "softmax",
              "relu",
              "tanh",
              "sigmoid",
              "linear"
            ],
            "_view_count": null,
            "_view_module": "@jupyter-widgets/controls",
            "_view_module_version": "1.5.0",
            "_view_name": "DropdownView",
            "description": "Output layer activation type: ",
            "description_tooltip": null,
            "disabled": false,
            "index": 3,
            "layout": "IPY_MODEL_f81f07edfc834d548cc5e8269d0c7115",
            "style": "IPY_MODEL_20adeb2fe155499898f971163c387e79"
          }
        },
        "ee57f5ea82504007ae7da3286f82163c": {
          "model_module": "@jupyter-widgets/controls",
          "model_name": "IntSliderModel",
          "model_module_version": "1.5.0",
          "state": {
            "_dom_classes": [],
            "_model_module": "@jupyter-widgets/controls",
            "_model_module_version": "1.5.0",
            "_model_name": "IntSliderModel",
            "_view_count": null,
            "_view_module": "@jupyter-widgets/controls",
            "_view_module_version": "1.5.0",
            "_view_name": "IntSliderView",
            "continuous_update": true,
            "description": "Epoch count: ",
            "description_tooltip": null,
            "disabled": false,
            "layout": "IPY_MODEL_5de4e6cab628406a995bd7b1e683db8a",
            "max": 10000,
            "min": 10,
            "orientation": "horizontal",
            "readout": true,
            "readout_format": "d",
            "step": 10,
            "style": "IPY_MODEL_225ad53cc4ba4ae48c91782d01207337",
            "value": 300
          }
        },
        "de0cc81e65ec4e78b4e13e3157417245": {
          "model_module": "@jupyter-widgets/controls",
          "model_name": "IntSliderModel",
          "model_module_version": "1.5.0",
          "state": {
            "_dom_classes": [],
            "_model_module": "@jupyter-widgets/controls",
            "_model_module_version": "1.5.0",
            "_model_name": "IntSliderModel",
            "_view_count": null,
            "_view_module": "@jupyter-widgets/controls",
            "_view_module_version": "1.5.0",
            "_view_name": "IntSliderView",
            "continuous_update": true,
            "description": "Neurons count in layer 1: ",
            "description_tooltip": null,
            "disabled": false,
            "layout": "IPY_MODEL_0968924b6bec47f3bc8ac29ced178264",
            "max": 20,
            "min": 0,
            "orientation": "horizontal",
            "readout": true,
            "readout_format": "d",
            "step": 1,
            "style": "IPY_MODEL_157b78f37c8948f7935bc174197ea17f",
            "value": 6
          }
        },
        "ffdd933e09504cb3ace10cfb19802e6a": {
          "model_module": "@jupyter-widgets/controls",
          "model_name": "IntSliderModel",
          "model_module_version": "1.5.0",
          "state": {
            "_dom_classes": [],
            "_model_module": "@jupyter-widgets/controls",
            "_model_module_version": "1.5.0",
            "_model_name": "IntSliderModel",
            "_view_count": null,
            "_view_module": "@jupyter-widgets/controls",
            "_view_module_version": "1.5.0",
            "_view_name": "IntSliderView",
            "continuous_update": true,
            "description": "Neurons count in layer 2: ",
            "description_tooltip": null,
            "disabled": false,
            "layout": "IPY_MODEL_7f67984111164b3c917796db07138c07",
            "max": 20,
            "min": 0,
            "orientation": "horizontal",
            "readout": true,
            "readout_format": "d",
            "step": 1,
            "style": "IPY_MODEL_9668b01639624200808e5de864eebc17",
            "value": 3
          }
        },
        "7c8dd5d0b5d64f2882b159ab6d06a1bb": {
          "model_module": "@jupyter-widgets/controls",
          "model_name": "IntSliderModel",
          "model_module_version": "1.5.0",
          "state": {
            "_dom_classes": [],
            "_model_module": "@jupyter-widgets/controls",
            "_model_module_version": "1.5.0",
            "_model_name": "IntSliderModel",
            "_view_count": null,
            "_view_module": "@jupyter-widgets/controls",
            "_view_module_version": "1.5.0",
            "_view_name": "IntSliderView",
            "continuous_update": true,
            "description": "Neurons count in layer 1: ",
            "description_tooltip": null,
            "disabled": false,
            "layout": "IPY_MODEL_2d64a630f30c4051943fcfe86ccf1376",
            "max": 20,
            "min": 0,
            "orientation": "horizontal",
            "readout": true,
            "readout_format": "d",
            "step": 1,
            "style": "IPY_MODEL_198ca05f7cac45068c5591e2d8b75a7b",
            "value": 0
          }
        },
        "c1f42558dbc04a2f9e67d0c9335d0895": {
          "model_module": "@jupyter-widgets/controls",
          "model_name": "IntSliderModel",
          "model_module_version": "1.5.0",
          "state": {
            "_dom_classes": [],
            "_model_module": "@jupyter-widgets/controls",
            "_model_module_version": "1.5.0",
            "_model_name": "IntSliderModel",
            "_view_count": null,
            "_view_module": "@jupyter-widgets/controls",
            "_view_module_version": "1.5.0",
            "_view_name": "IntSliderView",
            "continuous_update": true,
            "description": "Neurons count in layer 1: ",
            "description_tooltip": null,
            "disabled": false,
            "layout": "IPY_MODEL_b1aea40f8df24351bf5cfc8e1269562a",
            "max": 20,
            "min": 0,
            "orientation": "horizontal",
            "readout": true,
            "readout_format": "d",
            "step": 1,
            "style": "IPY_MODEL_aaa4cebc952747988fafa545c5c1e563",
            "value": 0
          }
        },
        "90b2e7e9a52144d8ba3ebe2a39c8ecbc": {
          "model_module": "@jupyter-widgets/controls",
          "model_name": "DropdownModel",
          "model_module_version": "1.5.0",
          "state": {
            "_dom_classes": [],
            "_model_module": "@jupyter-widgets/controls",
            "_model_module_version": "1.5.0",
            "_model_name": "DropdownModel",
            "_options_labels": [
              "softmax",
              "relu",
              "tanh",
              "sigmoid",
              "linear"
            ],
            "_view_count": null,
            "_view_module": "@jupyter-widgets/controls",
            "_view_module_version": "1.5.0",
            "_view_name": "DropdownView",
            "description": "Layer 1 activation type: ",
            "description_tooltip": null,
            "disabled": false,
            "index": 1,
            "layout": "IPY_MODEL_623fc63f36ed4da9b9ff3115da30f132",
            "style": "IPY_MODEL_9f23448c4709440bb8b4aef42032352e"
          }
        },
        "42dff99db5ae4436a9424665418d7ac0": {
          "model_module": "@jupyter-widgets/controls",
          "model_name": "DropdownModel",
          "model_module_version": "1.5.0",
          "state": {
            "_dom_classes": [],
            "_model_module": "@jupyter-widgets/controls",
            "_model_module_version": "1.5.0",
            "_model_name": "DropdownModel",
            "_options_labels": [
              "softmax",
              "relu",
              "tanh",
              "sigmoid",
              "linear"
            ],
            "_view_count": null,
            "_view_module": "@jupyter-widgets/controls",
            "_view_module_version": "1.5.0",
            "_view_name": "DropdownView",
            "description": "Layer 2 activation type: ",
            "description_tooltip": null,
            "disabled": false,
            "index": 1,
            "layout": "IPY_MODEL_31938de0c9784f9386951a819a766099",
            "style": "IPY_MODEL_d55b383020db4697ba4e7f4ea4832d36"
          }
        },
        "1726c327701d473382ebefcec08295a4": {
          "model_module": "@jupyter-widgets/controls",
          "model_name": "DropdownModel",
          "model_module_version": "1.5.0",
          "state": {
            "_dom_classes": [],
            "_model_module": "@jupyter-widgets/controls",
            "_model_module_version": "1.5.0",
            "_model_name": "DropdownModel",
            "_options_labels": [
              "softmax",
              "relu",
              "tanh",
              "sigmoid",
              "linear"
            ],
            "_view_count": null,
            "_view_module": "@jupyter-widgets/controls",
            "_view_module_version": "1.5.0",
            "_view_name": "DropdownView",
            "description": "Layer 3 activation type: ",
            "description_tooltip": null,
            "disabled": false,
            "index": 1,
            "layout": "IPY_MODEL_b1aab111a5454ab78a72a5f7cf19806a",
            "style": "IPY_MODEL_9a6026302c784ac78cf3aec66d162f84"
          }
        },
        "43172d6c44f440418444269d065d4bc4": {
          "model_module": "@jupyter-widgets/controls",
          "model_name": "DropdownModel",
          "model_module_version": "1.5.0",
          "state": {
            "_dom_classes": [],
            "_model_module": "@jupyter-widgets/controls",
            "_model_module_version": "1.5.0",
            "_model_name": "DropdownModel",
            "_options_labels": [
              "softmax",
              "relu",
              "tanh",
              "sigmoid",
              "linear"
            ],
            "_view_count": null,
            "_view_module": "@jupyter-widgets/controls",
            "_view_module_version": "1.5.0",
            "_view_name": "DropdownView",
            "description": "Layer 4 activation type: ",
            "description_tooltip": null,
            "disabled": false,
            "index": 1,
            "layout": "IPY_MODEL_7ada92e02af54a608d913756353848b7",
            "style": "IPY_MODEL_8f3076d05fb0448ea76d61121f848e79"
          }
        },
        "a433d16a3e8040a1b03a17298dd6b86c": {
          "model_module": "@jupyter-widgets/controls",
          "model_name": "ButtonModel",
          "model_module_version": "1.5.0",
          "state": {
            "_dom_classes": [],
            "_model_module": "@jupyter-widgets/controls",
            "_model_module_version": "1.5.0",
            "_model_name": "ButtonModel",
            "_view_count": null,
            "_view_module": "@jupyter-widgets/controls",
            "_view_module_version": "1.5.0",
            "_view_name": "ButtonView",
            "button_style": "",
            "description": "Run Interact",
            "disabled": false,
            "icon": "",
            "layout": "IPY_MODEL_e35a943c14cf4b17880f66a8843b31d9",
            "style": "IPY_MODEL_a2c416f2de1f4342af3029da5caecf8a",
            "tooltip": ""
          }
        },
        "33a117be986c4041a8529e1af5ab5291": {
          "model_module": "@jupyter-widgets/output",
          "model_name": "OutputModel",
          "model_module_version": "1.0.0",
          "state": {
            "_dom_classes": [],
            "_model_module": "@jupyter-widgets/output",
            "_model_module_version": "1.0.0",
            "_model_name": "OutputModel",
            "_view_count": null,
            "_view_module": "@jupyter-widgets/output",
            "_view_module_version": "1.0.0",
            "_view_name": "OutputView",
            "layout": "IPY_MODEL_dd12268b2da0448ca7cf4760ed3da83b",
            "msg_id": "",
            "outputs": [
              {
                "output_type": "stream",
                "name": "stdout",
                "text": [
                  "dict_keys(['loss', 'accuracy', 'val_loss', 'val_accuracy'])\n",
                  "Accuracy:  0.8149999976158142\n"
                ]
              },
              {
                "output_type": "display_data",
                "data": {
                  "text/plain": "<Figure size 432x288 with 1 Axes>",
                  "image/png": "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\n"
                },
                "metadata": {
                  "needs_background": "light"
                }
              },
              {
                "output_type": "display_data",
                "data": {
                  "text/plain": "<Figure size 432x288 with 1 Axes>",
                  "image/png": "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\n"
                },
                "metadata": {
                  "needs_background": "light"
                }
              },
              {
                "output_type": "stream",
                "name": "stdout",
                "text": [
                  "\r  1/625 [..............................] - ETA: 35s"
                ]
              },
              {
                "output_type": "stream",
                "name": "stdout",
                "text": [
                  "\b\b\b\b\b\b\b\b\b\b\b\b\b\b\b\b\b\b\b\b\b\b\b\b\b\b\b\b\b\b\b\b\b\b\b\b\b\b\b\b\b\b\b\b\b\b\b\b\b\b\b\r 36/625 [>.............................] - ETA: 0s "
                ]
              },
              {
                "output_type": "stream",
                "name": "stdout",
                "text": [
                  "\b\b\b\b\b\b\b\b\b\b\b\b\b\b\b\b\b\b\b\b\b\b\b\b\b\b\b\b\b\b\b\b\b\b\b\b\b\b\b\b\b\b\b\b\b\b\b\b\b\b\r 71/625 [==>...........................] - ETA: 0s"
                ]
              },
              {
                "output_type": "stream",
                "name": "stdout",
                "text": [
                  "\b\b\b\b\b\b\b\b\b\b\b\b\b\b\b\b\b\b\b\b\b\b\b\b\b\b\b\b\b\b\b\b\b\b\b\b\b\b\b\b\b\b\b\b\b\b\b\b\b\b\r109/625 [====>.........................] - ETA: 0s"
                ]
              },
              {
                "output_type": "stream",
                "name": "stdout",
                "text": [
                  "\b\b\b\b\b\b\b\b\b\b\b\b\b\b\b\b\b\b\b\b\b\b\b\b\b\b\b\b\b\b\b\b\b\b\b\b\b\b\b\b\b\b\b\b\b\b\b\b\b\b\r142/625 [=====>........................] - ETA: 0s"
                ]
              },
              {
                "output_type": "stream",
                "name": "stdout",
                "text": [
                  "\b\b\b\b\b\b\b\b\b\b\b\b\b\b\b\b\b\b\b\b\b\b\b\b\b\b\b\b\b\b\b\b\b\b\b\b\b\b\b\b\b\b\b\b\b\b\b\b\b\b\r176/625 [=======>......................] - ETA: 0s"
                ]
              },
              {
                "output_type": "stream",
                "name": "stdout",
                "text": [
                  "\b\b\b\b\b\b\b\b\b\b\b\b\b\b\b\b\b\b\b\b\b\b\b\b\b\b\b\b\b\b\b\b\b\b\b\b\b\b\b\b\b\b\b\b\b\b\b\b\b\b\r207/625 [========>.....................] - ETA: 0s"
                ]
              },
              {
                "output_type": "stream",
                "name": "stdout",
                "text": [
                  "\b\b\b\b\b\b\b\b\b\b\b\b\b\b\b\b\b\b\b\b\b\b\b\b\b\b\b\b\b\b\b\b\b\b\b\b\b\b\b\b\b\b\b\b\b\b\b\b\b\b\r243/625 [==========>...................] - ETA: 0s"
                ]
              },
              {
                "output_type": "stream",
                "name": "stdout",
                "text": [
                  "\b\b\b\b\b\b\b\b\b\b\b\b\b\b\b\b\b\b\b\b\b\b\b\b\b\b\b\b\b\b\b\b\b\b\b\b\b\b\b\b\b\b\b\b\b\b\b\b\b\b\r282/625 [============>.................] - ETA: 0s"
                ]
              },
              {
                "output_type": "stream",
                "name": "stdout",
                "text": [
                  "\b\b\b\b\b\b\b\b\b\b\b\b\b\b\b\b\b\b\b\b\b\b\b\b\b\b\b\b\b\b\b\b\b\b\b\b\b\b\b\b\b\b\b\b\b\b\b\b\b\b\r313/625 [==============>...............] - ETA: 0s"
                ]
              },
              {
                "output_type": "stream",
                "name": "stdout",
                "text": [
                  "\b\b\b\b\b\b\b\b\b\b\b\b\b\b\b\b\b\b\b\b\b\b\b\b\b\b\b\b\b\b\b\b\b\b\b\b\b\b\b\b\b\b\b\b\b\b\b\b\b\b\r352/625 [===============>..............] - ETA: 0s"
                ]
              },
              {
                "output_type": "stream",
                "name": "stdout",
                "text": [
                  "\b\b\b\b\b\b\b\b\b\b\b\b\b\b\b\b\b\b\b\b\b\b\b\b\b\b\b\b\b\b\b\b\b\b\b\b\b\b\b\b\b\b\b\b\b\b\b\b\b\b\r391/625 [=================>............] - ETA: 0s"
                ]
              },
              {
                "output_type": "stream",
                "name": "stdout",
                "text": [
                  "\b\b\b\b\b\b\b\b\b\b\b\b\b\b\b\b\b\b\b\b\b\b\b\b\b\b\b\b\b\b\b\b\b\b\b\b\b\b\b\b\b\b\b\b\b\b\b\b\b\b\r427/625 [===================>..........] - ETA: 0s"
                ]
              },
              {
                "output_type": "stream",
                "name": "stdout",
                "text": [
                  "\b\b\b\b\b\b\b\b\b\b\b\b\b\b\b\b\b\b\b\b\b\b\b\b\b\b\b\b\b\b\b\b\b\b\b\b\b\b\b\b\b\b\b\b\b\b\b\b\b\b\r459/625 [=====================>........] - ETA: 0s"
                ]
              },
              {
                "output_type": "stream",
                "name": "stdout",
                "text": [
                  "\b\b\b\b\b\b\b\b\b\b\b\b\b\b\b\b\b\b\b\b\b\b\b\b\b\b\b\b\b\b\b\b\b\b\b\b\b\b\b\b\b\b\b\b\b\b\b\b\b\b\r496/625 [======================>.......] - ETA: 0s"
                ]
              },
              {
                "output_type": "stream",
                "name": "stdout",
                "text": [
                  "\b\b\b\b\b\b\b\b\b\b\b\b\b\b\b\b\b\b\b\b\b\b\b\b\b\b\b\b\b\b\b\b\b\b\b\b\b\b\b\b\b\b\b\b\b\b\b\b\b\b\r537/625 [========================>.....] - ETA: 0s"
                ]
              },
              {
                "output_type": "stream",
                "name": "stdout",
                "text": [
                  "\b\b\b\b\b\b\b\b\b\b\b\b\b\b\b\b\b\b\b\b\b\b\b\b\b\b\b\b\b\b\b\b\b\b\b\b\b\b\b\b\b\b\b\b\b\b\b\b\b\b\r576/625 [==========================>...] - ETA: 0s"
                ]
              },
              {
                "output_type": "stream",
                "name": "stdout",
                "text": [
                  "\b\b\b\b\b\b\b\b\b\b\b\b\b\b\b\b\b\b\b\b\b\b\b\b\b\b\b\b\b\b\b\b\b\b\b\b\b\b\b\b\b\b\b\b\b\b\b\b\b\b\r615/625 [============================>.] - ETA: 0s"
                ]
              },
              {
                "output_type": "stream",
                "name": "stdout",
                "text": [
                  "\b\b\b\b\b\b\b\b\b\b\b\b\b\b\b\b\b\b\b\b\b\b\b\b\b\b\b\b\b\b\b\b\b\b\b\b\b\b\b\b\b\b\b\b\b\b\b\b\b\b\r625/625 [==============================] - 1s 1ms/step\n"
                ]
              },
              {
                "output_type": "display_data",
                "data": {
                  "text/plain": "<Figure size 432x288 with 2 Axes>",
                  "image/png": "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\n"
                },
                "metadata": {
                  "needs_background": "light"
                }
              },
              {
                "output_type": "display_data",
                "data": {
                  "text/plain": "<Figure size 432x288 with 2 Axes>",
                  "image/png": "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\n"
                },
                "metadata": {
                  "needs_background": "light"
                }
              }
            ]
          }
        },
        "cae3e30650c34387b951c9e205c870c7": {
          "model_module": "@jupyter-widgets/base",
          "model_name": "LayoutModel",
          "model_module_version": "1.2.0",
          "state": {
            "_model_module": "@jupyter-widgets/base",
            "_model_module_version": "1.2.0",
            "_model_name": "LayoutModel",
            "_view_count": null,
            "_view_module": "@jupyter-widgets/base",
            "_view_module_version": "1.2.0",
            "_view_name": "LayoutView",
            "align_content": null,
            "align_items": null,
            "align_self": null,
            "border": null,
            "bottom": null,
            "display": null,
            "flex": null,
            "flex_flow": null,
            "grid_area": null,
            "grid_auto_columns": null,
            "grid_auto_flow": null,
            "grid_auto_rows": null,
            "grid_column": null,
            "grid_gap": null,
            "grid_row": null,
            "grid_template_areas": null,
            "grid_template_columns": null,
            "grid_template_rows": null,
            "height": null,
            "justify_content": null,
            "justify_items": null,
            "left": null,
            "margin": null,
            "max_height": null,
            "max_width": null,
            "min_height": null,
            "min_width": null,
            "object_fit": null,
            "object_position": null,
            "order": null,
            "overflow": null,
            "overflow_x": null,
            "overflow_y": null,
            "padding": null,
            "right": null,
            "top": null,
            "visibility": null,
            "width": null
          }
        },
        "ebfe4e200a3b4038934654a41d392dad": {
          "model_module": "@jupyter-widgets/base",
          "model_name": "LayoutModel",
          "model_module_version": "1.2.0",
          "state": {
            "_model_module": "@jupyter-widgets/base",
            "_model_module_version": "1.2.0",
            "_model_name": "LayoutModel",
            "_view_count": null,
            "_view_module": "@jupyter-widgets/base",
            "_view_module_version": "1.2.0",
            "_view_name": "LayoutView",
            "align_content": null,
            "align_items": null,
            "align_self": null,
            "border": null,
            "bottom": null,
            "display": null,
            "flex": null,
            "flex_flow": null,
            "grid_area": null,
            "grid_auto_columns": null,
            "grid_auto_flow": null,
            "grid_auto_rows": null,
            "grid_column": null,
            "grid_gap": null,
            "grid_row": null,
            "grid_template_areas": null,
            "grid_template_columns": null,
            "grid_template_rows": null,
            "height": null,
            "justify_content": null,
            "justify_items": null,
            "left": null,
            "margin": null,
            "max_height": null,
            "max_width": null,
            "min_height": null,
            "min_width": null,
            "object_fit": null,
            "object_position": null,
            "order": null,
            "overflow": null,
            "overflow_x": null,
            "overflow_y": null,
            "padding": null,
            "right": null,
            "top": null,
            "visibility": null,
            "width": null
          }
        },
        "0389a6fea2d548cfb83c7d1b1f91c5e9": {
          "model_module": "@jupyter-widgets/controls",
          "model_name": "SliderStyleModel",
          "model_module_version": "1.5.0",
          "state": {
            "_model_module": "@jupyter-widgets/controls",
            "_model_module_version": "1.5.0",
            "_model_name": "SliderStyleModel",
            "_view_count": null,
            "_view_module": "@jupyter-widgets/base",
            "_view_module_version": "1.2.0",
            "_view_name": "StyleView",
            "description_width": "",
            "handle_color": null
          }
        },
        "62cbf9e0bdf14c33b87c00295f283ddf": {
          "model_module": "@jupyter-widgets/base",
          "model_name": "LayoutModel",
          "model_module_version": "1.2.0",
          "state": {
            "_model_module": "@jupyter-widgets/base",
            "_model_module_version": "1.2.0",
            "_model_name": "LayoutModel",
            "_view_count": null,
            "_view_module": "@jupyter-widgets/base",
            "_view_module_version": "1.2.0",
            "_view_name": "LayoutView",
            "align_content": null,
            "align_items": null,
            "align_self": null,
            "border": null,
            "bottom": null,
            "display": null,
            "flex": null,
            "flex_flow": null,
            "grid_area": null,
            "grid_auto_columns": null,
            "grid_auto_flow": null,
            "grid_auto_rows": null,
            "grid_column": null,
            "grid_gap": null,
            "grid_row": null,
            "grid_template_areas": null,
            "grid_template_columns": null,
            "grid_template_rows": null,
            "height": null,
            "justify_content": null,
            "justify_items": null,
            "left": null,
            "margin": null,
            "max_height": null,
            "max_width": null,
            "min_height": null,
            "min_width": null,
            "object_fit": null,
            "object_position": null,
            "order": null,
            "overflow": null,
            "overflow_x": null,
            "overflow_y": null,
            "padding": null,
            "right": null,
            "top": null,
            "visibility": null,
            "width": null
          }
        },
        "d638b677bc8742bba0e0e51ffc933170": {
          "model_module": "@jupyter-widgets/controls",
          "model_name": "DescriptionStyleModel",
          "model_module_version": "1.5.0",
          "state": {
            "_model_module": "@jupyter-widgets/controls",
            "_model_module_version": "1.5.0",
            "_model_name": "DescriptionStyleModel",
            "_view_count": null,
            "_view_module": "@jupyter-widgets/base",
            "_view_module_version": "1.2.0",
            "_view_name": "StyleView",
            "description_width": "initial"
          }
        },
        "7c1666808487463dbec7312d895adb22": {
          "model_module": "@jupyter-widgets/base",
          "model_name": "LayoutModel",
          "model_module_version": "1.2.0",
          "state": {
            "_model_module": "@jupyter-widgets/base",
            "_model_module_version": "1.2.0",
            "_model_name": "LayoutModel",
            "_view_count": null,
            "_view_module": "@jupyter-widgets/base",
            "_view_module_version": "1.2.0",
            "_view_name": "LayoutView",
            "align_content": null,
            "align_items": null,
            "align_self": null,
            "border": null,
            "bottom": null,
            "display": null,
            "flex": null,
            "flex_flow": null,
            "grid_area": null,
            "grid_auto_columns": null,
            "grid_auto_flow": null,
            "grid_auto_rows": null,
            "grid_column": null,
            "grid_gap": null,
            "grid_row": null,
            "grid_template_areas": null,
            "grid_template_columns": null,
            "grid_template_rows": null,
            "height": null,
            "justify_content": null,
            "justify_items": null,
            "left": null,
            "margin": null,
            "max_height": null,
            "max_width": null,
            "min_height": null,
            "min_width": null,
            "object_fit": null,
            "object_position": null,
            "order": null,
            "overflow": null,
            "overflow_x": null,
            "overflow_y": null,
            "padding": null,
            "right": null,
            "top": null,
            "visibility": null,
            "width": null
          }
        },
        "a9bd77f48cc04b3499ce8e111b717f17": {
          "model_module": "@jupyter-widgets/controls",
          "model_name": "SliderStyleModel",
          "model_module_version": "1.5.0",
          "state": {
            "_model_module": "@jupyter-widgets/controls",
            "_model_module_version": "1.5.0",
            "_model_name": "SliderStyleModel",
            "_view_count": null,
            "_view_module": "@jupyter-widgets/base",
            "_view_module_version": "1.2.0",
            "_view_name": "StyleView",
            "description_width": "initial",
            "handle_color": null
          }
        },
        "6cb17acd899246ba85bf8599494c2a4b": {
          "model_module": "@jupyter-widgets/base",
          "model_name": "LayoutModel",
          "model_module_version": "1.2.0",
          "state": {
            "_model_module": "@jupyter-widgets/base",
            "_model_module_version": "1.2.0",
            "_model_name": "LayoutModel",
            "_view_count": null,
            "_view_module": "@jupyter-widgets/base",
            "_view_module_version": "1.2.0",
            "_view_name": "LayoutView",
            "align_content": null,
            "align_items": null,
            "align_self": null,
            "border": null,
            "bottom": null,
            "display": null,
            "flex": null,
            "flex_flow": null,
            "grid_area": null,
            "grid_auto_columns": null,
            "grid_auto_flow": null,
            "grid_auto_rows": null,
            "grid_column": null,
            "grid_gap": null,
            "grid_row": null,
            "grid_template_areas": null,
            "grid_template_columns": null,
            "grid_template_rows": null,
            "height": null,
            "justify_content": null,
            "justify_items": null,
            "left": null,
            "margin": null,
            "max_height": null,
            "max_width": null,
            "min_height": null,
            "min_width": null,
            "object_fit": null,
            "object_position": null,
            "order": null,
            "overflow": null,
            "overflow_x": null,
            "overflow_y": null,
            "padding": null,
            "right": null,
            "top": null,
            "visibility": null,
            "width": null
          }
        },
        "da21490a25134255b60a54dfbccfcaab": {
          "model_module": "@jupyter-widgets/controls",
          "model_name": "ToggleButtonsStyleModel",
          "model_module_version": "1.5.0",
          "state": {
            "_model_module": "@jupyter-widgets/controls",
            "_model_module_version": "1.5.0",
            "_model_name": "ToggleButtonsStyleModel",
            "_view_count": null,
            "_view_module": "@jupyter-widgets/base",
            "_view_module_version": "1.2.0",
            "_view_name": "StyleView",
            "button_width": "",
            "description_width": "initial",
            "font_weight": ""
          }
        },
        "45db281efaba4fb7a3d964c11dee0c66": {
          "model_module": "@jupyter-widgets/base",
          "model_name": "LayoutModel",
          "model_module_version": "1.2.0",
          "state": {
            "_model_module": "@jupyter-widgets/base",
            "_model_module_version": "1.2.0",
            "_model_name": "LayoutModel",
            "_view_count": null,
            "_view_module": "@jupyter-widgets/base",
            "_view_module_version": "1.2.0",
            "_view_name": "LayoutView",
            "align_content": null,
            "align_items": null,
            "align_self": null,
            "border": null,
            "bottom": null,
            "display": null,
            "flex": null,
            "flex_flow": null,
            "grid_area": null,
            "grid_auto_columns": null,
            "grid_auto_flow": null,
            "grid_auto_rows": null,
            "grid_column": null,
            "grid_gap": null,
            "grid_row": null,
            "grid_template_areas": null,
            "grid_template_columns": null,
            "grid_template_rows": null,
            "height": null,
            "justify_content": null,
            "justify_items": null,
            "left": null,
            "margin": null,
            "max_height": null,
            "max_width": null,
            "min_height": null,
            "min_width": null,
            "object_fit": null,
            "object_position": null,
            "order": null,
            "overflow": null,
            "overflow_x": null,
            "overflow_y": null,
            "padding": null,
            "right": null,
            "top": null,
            "visibility": null,
            "width": null
          }
        },
        "545e0e7650244d3d99c05e288ce162bc": {
          "model_module": "@jupyter-widgets/controls",
          "model_name": "ToggleButtonsStyleModel",
          "model_module_version": "1.5.0",
          "state": {
            "_model_module": "@jupyter-widgets/controls",
            "_model_module_version": "1.5.0",
            "_model_name": "ToggleButtonsStyleModel",
            "_view_count": null,
            "_view_module": "@jupyter-widgets/base",
            "_view_module_version": "1.2.0",
            "_view_name": "StyleView",
            "button_width": "",
            "description_width": "initial",
            "font_weight": ""
          }
        },
        "9a3ae54a08974c9eb761b649208e564a": {
          "model_module": "@jupyter-widgets/base",
          "model_name": "LayoutModel",
          "model_module_version": "1.2.0",
          "state": {
            "_model_module": "@jupyter-widgets/base",
            "_model_module_version": "1.2.0",
            "_model_name": "LayoutModel",
            "_view_count": null,
            "_view_module": "@jupyter-widgets/base",
            "_view_module_version": "1.2.0",
            "_view_name": "LayoutView",
            "align_content": null,
            "align_items": null,
            "align_self": null,
            "border": null,
            "bottom": null,
            "display": null,
            "flex": null,
            "flex_flow": null,
            "grid_area": null,
            "grid_auto_columns": null,
            "grid_auto_flow": null,
            "grid_auto_rows": null,
            "grid_column": null,
            "grid_gap": null,
            "grid_row": null,
            "grid_template_areas": null,
            "grid_template_columns": null,
            "grid_template_rows": null,
            "height": null,
            "justify_content": null,
            "justify_items": null,
            "left": null,
            "margin": null,
            "max_height": null,
            "max_width": null,
            "min_height": null,
            "min_width": null,
            "object_fit": null,
            "object_position": null,
            "order": null,
            "overflow": null,
            "overflow_x": null,
            "overflow_y": null,
            "padding": null,
            "right": null,
            "top": null,
            "visibility": null,
            "width": null
          }
        },
        "3c6a3f59cc77453cb6c66ec34f70b9ff": {
          "model_module": "@jupyter-widgets/controls",
          "model_name": "ToggleButtonsStyleModel",
          "model_module_version": "1.5.0",
          "state": {
            "_model_module": "@jupyter-widgets/controls",
            "_model_module_version": "1.5.0",
            "_model_name": "ToggleButtonsStyleModel",
            "_view_count": null,
            "_view_module": "@jupyter-widgets/base",
            "_view_module_version": "1.2.0",
            "_view_name": "StyleView",
            "button_width": "",
            "description_width": "initial",
            "font_weight": ""
          }
        },
        "f81f07edfc834d548cc5e8269d0c7115": {
          "model_module": "@jupyter-widgets/base",
          "model_name": "LayoutModel",
          "model_module_version": "1.2.0",
          "state": {
            "_model_module": "@jupyter-widgets/base",
            "_model_module_version": "1.2.0",
            "_model_name": "LayoutModel",
            "_view_count": null,
            "_view_module": "@jupyter-widgets/base",
            "_view_module_version": "1.2.0",
            "_view_name": "LayoutView",
            "align_content": null,
            "align_items": null,
            "align_self": null,
            "border": null,
            "bottom": null,
            "display": null,
            "flex": null,
            "flex_flow": null,
            "grid_area": null,
            "grid_auto_columns": null,
            "grid_auto_flow": null,
            "grid_auto_rows": null,
            "grid_column": null,
            "grid_gap": null,
            "grid_row": null,
            "grid_template_areas": null,
            "grid_template_columns": null,
            "grid_template_rows": null,
            "height": null,
            "justify_content": null,
            "justify_items": null,
            "left": null,
            "margin": null,
            "max_height": null,
            "max_width": null,
            "min_height": null,
            "min_width": null,
            "object_fit": null,
            "object_position": null,
            "order": null,
            "overflow": null,
            "overflow_x": null,
            "overflow_y": null,
            "padding": null,
            "right": null,
            "top": null,
            "visibility": null,
            "width": null
          }
        },
        "20adeb2fe155499898f971163c387e79": {
          "model_module": "@jupyter-widgets/controls",
          "model_name": "DescriptionStyleModel",
          "model_module_version": "1.5.0",
          "state": {
            "_model_module": "@jupyter-widgets/controls",
            "_model_module_version": "1.5.0",
            "_model_name": "DescriptionStyleModel",
            "_view_count": null,
            "_view_module": "@jupyter-widgets/base",
            "_view_module_version": "1.2.0",
            "_view_name": "StyleView",
            "description_width": "initial"
          }
        },
        "5de4e6cab628406a995bd7b1e683db8a": {
          "model_module": "@jupyter-widgets/base",
          "model_name": "LayoutModel",
          "model_module_version": "1.2.0",
          "state": {
            "_model_module": "@jupyter-widgets/base",
            "_model_module_version": "1.2.0",
            "_model_name": "LayoutModel",
            "_view_count": null,
            "_view_module": "@jupyter-widgets/base",
            "_view_module_version": "1.2.0",
            "_view_name": "LayoutView",
            "align_content": null,
            "align_items": null,
            "align_self": null,
            "border": null,
            "bottom": null,
            "display": null,
            "flex": null,
            "flex_flow": null,
            "grid_area": null,
            "grid_auto_columns": null,
            "grid_auto_flow": null,
            "grid_auto_rows": null,
            "grid_column": null,
            "grid_gap": null,
            "grid_row": null,
            "grid_template_areas": null,
            "grid_template_columns": null,
            "grid_template_rows": null,
            "height": null,
            "justify_content": null,
            "justify_items": null,
            "left": null,
            "margin": null,
            "max_height": null,
            "max_width": null,
            "min_height": null,
            "min_width": null,
            "object_fit": null,
            "object_position": null,
            "order": null,
            "overflow": null,
            "overflow_x": null,
            "overflow_y": null,
            "padding": null,
            "right": null,
            "top": null,
            "visibility": null,
            "width": null
          }
        },
        "225ad53cc4ba4ae48c91782d01207337": {
          "model_module": "@jupyter-widgets/controls",
          "model_name": "SliderStyleModel",
          "model_module_version": "1.5.0",
          "state": {
            "_model_module": "@jupyter-widgets/controls",
            "_model_module_version": "1.5.0",
            "_model_name": "SliderStyleModel",
            "_view_count": null,
            "_view_module": "@jupyter-widgets/base",
            "_view_module_version": "1.2.0",
            "_view_name": "StyleView",
            "description_width": "initial",
            "handle_color": null
          }
        },
        "0968924b6bec47f3bc8ac29ced178264": {
          "model_module": "@jupyter-widgets/base",
          "model_name": "LayoutModel",
          "model_module_version": "1.2.0",
          "state": {
            "_model_module": "@jupyter-widgets/base",
            "_model_module_version": "1.2.0",
            "_model_name": "LayoutModel",
            "_view_count": null,
            "_view_module": "@jupyter-widgets/base",
            "_view_module_version": "1.2.0",
            "_view_name": "LayoutView",
            "align_content": null,
            "align_items": null,
            "align_self": null,
            "border": null,
            "bottom": null,
            "display": null,
            "flex": null,
            "flex_flow": null,
            "grid_area": null,
            "grid_auto_columns": null,
            "grid_auto_flow": null,
            "grid_auto_rows": null,
            "grid_column": null,
            "grid_gap": null,
            "grid_row": null,
            "grid_template_areas": null,
            "grid_template_columns": null,
            "grid_template_rows": null,
            "height": null,
            "justify_content": null,
            "justify_items": null,
            "left": null,
            "margin": null,
            "max_height": null,
            "max_width": null,
            "min_height": null,
            "min_width": null,
            "object_fit": null,
            "object_position": null,
            "order": null,
            "overflow": null,
            "overflow_x": null,
            "overflow_y": null,
            "padding": null,
            "right": null,
            "top": null,
            "visibility": null,
            "width": null
          }
        },
        "157b78f37c8948f7935bc174197ea17f": {
          "model_module": "@jupyter-widgets/controls",
          "model_name": "SliderStyleModel",
          "model_module_version": "1.5.0",
          "state": {
            "_model_module": "@jupyter-widgets/controls",
            "_model_module_version": "1.5.0",
            "_model_name": "SliderStyleModel",
            "_view_count": null,
            "_view_module": "@jupyter-widgets/base",
            "_view_module_version": "1.2.0",
            "_view_name": "StyleView",
            "description_width": "initial",
            "handle_color": null
          }
        },
        "7f67984111164b3c917796db07138c07": {
          "model_module": "@jupyter-widgets/base",
          "model_name": "LayoutModel",
          "model_module_version": "1.2.0",
          "state": {
            "_model_module": "@jupyter-widgets/base",
            "_model_module_version": "1.2.0",
            "_model_name": "LayoutModel",
            "_view_count": null,
            "_view_module": "@jupyter-widgets/base",
            "_view_module_version": "1.2.0",
            "_view_name": "LayoutView",
            "align_content": null,
            "align_items": null,
            "align_self": null,
            "border": null,
            "bottom": null,
            "display": null,
            "flex": null,
            "flex_flow": null,
            "grid_area": null,
            "grid_auto_columns": null,
            "grid_auto_flow": null,
            "grid_auto_rows": null,
            "grid_column": null,
            "grid_gap": null,
            "grid_row": null,
            "grid_template_areas": null,
            "grid_template_columns": null,
            "grid_template_rows": null,
            "height": null,
            "justify_content": null,
            "justify_items": null,
            "left": null,
            "margin": null,
            "max_height": null,
            "max_width": null,
            "min_height": null,
            "min_width": null,
            "object_fit": null,
            "object_position": null,
            "order": null,
            "overflow": null,
            "overflow_x": null,
            "overflow_y": null,
            "padding": null,
            "right": null,
            "top": null,
            "visibility": null,
            "width": null
          }
        },
        "9668b01639624200808e5de864eebc17": {
          "model_module": "@jupyter-widgets/controls",
          "model_name": "SliderStyleModel",
          "model_module_version": "1.5.0",
          "state": {
            "_model_module": "@jupyter-widgets/controls",
            "_model_module_version": "1.5.0",
            "_model_name": "SliderStyleModel",
            "_view_count": null,
            "_view_module": "@jupyter-widgets/base",
            "_view_module_version": "1.2.0",
            "_view_name": "StyleView",
            "description_width": "initial",
            "handle_color": null
          }
        },
        "2d64a630f30c4051943fcfe86ccf1376": {
          "model_module": "@jupyter-widgets/base",
          "model_name": "LayoutModel",
          "model_module_version": "1.2.0",
          "state": {
            "_model_module": "@jupyter-widgets/base",
            "_model_module_version": "1.2.0",
            "_model_name": "LayoutModel",
            "_view_count": null,
            "_view_module": "@jupyter-widgets/base",
            "_view_module_version": "1.2.0",
            "_view_name": "LayoutView",
            "align_content": null,
            "align_items": null,
            "align_self": null,
            "border": null,
            "bottom": null,
            "display": null,
            "flex": null,
            "flex_flow": null,
            "grid_area": null,
            "grid_auto_columns": null,
            "grid_auto_flow": null,
            "grid_auto_rows": null,
            "grid_column": null,
            "grid_gap": null,
            "grid_row": null,
            "grid_template_areas": null,
            "grid_template_columns": null,
            "grid_template_rows": null,
            "height": null,
            "justify_content": null,
            "justify_items": null,
            "left": null,
            "margin": null,
            "max_height": null,
            "max_width": null,
            "min_height": null,
            "min_width": null,
            "object_fit": null,
            "object_position": null,
            "order": null,
            "overflow": null,
            "overflow_x": null,
            "overflow_y": null,
            "padding": null,
            "right": null,
            "top": null,
            "visibility": null,
            "width": null
          }
        },
        "198ca05f7cac45068c5591e2d8b75a7b": {
          "model_module": "@jupyter-widgets/controls",
          "model_name": "SliderStyleModel",
          "model_module_version": "1.5.0",
          "state": {
            "_model_module": "@jupyter-widgets/controls",
            "_model_module_version": "1.5.0",
            "_model_name": "SliderStyleModel",
            "_view_count": null,
            "_view_module": "@jupyter-widgets/base",
            "_view_module_version": "1.2.0",
            "_view_name": "StyleView",
            "description_width": "initial",
            "handle_color": null
          }
        },
        "b1aea40f8df24351bf5cfc8e1269562a": {
          "model_module": "@jupyter-widgets/base",
          "model_name": "LayoutModel",
          "model_module_version": "1.2.0",
          "state": {
            "_model_module": "@jupyter-widgets/base",
            "_model_module_version": "1.2.0",
            "_model_name": "LayoutModel",
            "_view_count": null,
            "_view_module": "@jupyter-widgets/base",
            "_view_module_version": "1.2.0",
            "_view_name": "LayoutView",
            "align_content": null,
            "align_items": null,
            "align_self": null,
            "border": null,
            "bottom": null,
            "display": null,
            "flex": null,
            "flex_flow": null,
            "grid_area": null,
            "grid_auto_columns": null,
            "grid_auto_flow": null,
            "grid_auto_rows": null,
            "grid_column": null,
            "grid_gap": null,
            "grid_row": null,
            "grid_template_areas": null,
            "grid_template_columns": null,
            "grid_template_rows": null,
            "height": null,
            "justify_content": null,
            "justify_items": null,
            "left": null,
            "margin": null,
            "max_height": null,
            "max_width": null,
            "min_height": null,
            "min_width": null,
            "object_fit": null,
            "object_position": null,
            "order": null,
            "overflow": null,
            "overflow_x": null,
            "overflow_y": null,
            "padding": null,
            "right": null,
            "top": null,
            "visibility": null,
            "width": null
          }
        },
        "aaa4cebc952747988fafa545c5c1e563": {
          "model_module": "@jupyter-widgets/controls",
          "model_name": "SliderStyleModel",
          "model_module_version": "1.5.0",
          "state": {
            "_model_module": "@jupyter-widgets/controls",
            "_model_module_version": "1.5.0",
            "_model_name": "SliderStyleModel",
            "_view_count": null,
            "_view_module": "@jupyter-widgets/base",
            "_view_module_version": "1.2.0",
            "_view_name": "StyleView",
            "description_width": "initial",
            "handle_color": null
          }
        },
        "623fc63f36ed4da9b9ff3115da30f132": {
          "model_module": "@jupyter-widgets/base",
          "model_name": "LayoutModel",
          "model_module_version": "1.2.0",
          "state": {
            "_model_module": "@jupyter-widgets/base",
            "_model_module_version": "1.2.0",
            "_model_name": "LayoutModel",
            "_view_count": null,
            "_view_module": "@jupyter-widgets/base",
            "_view_module_version": "1.2.0",
            "_view_name": "LayoutView",
            "align_content": null,
            "align_items": null,
            "align_self": null,
            "border": null,
            "bottom": null,
            "display": null,
            "flex": null,
            "flex_flow": null,
            "grid_area": null,
            "grid_auto_columns": null,
            "grid_auto_flow": null,
            "grid_auto_rows": null,
            "grid_column": null,
            "grid_gap": null,
            "grid_row": null,
            "grid_template_areas": null,
            "grid_template_columns": null,
            "grid_template_rows": null,
            "height": null,
            "justify_content": null,
            "justify_items": null,
            "left": null,
            "margin": null,
            "max_height": null,
            "max_width": null,
            "min_height": null,
            "min_width": null,
            "object_fit": null,
            "object_position": null,
            "order": null,
            "overflow": null,
            "overflow_x": null,
            "overflow_y": null,
            "padding": null,
            "right": null,
            "top": null,
            "visibility": null,
            "width": null
          }
        },
        "9f23448c4709440bb8b4aef42032352e": {
          "model_module": "@jupyter-widgets/controls",
          "model_name": "DescriptionStyleModel",
          "model_module_version": "1.5.0",
          "state": {
            "_model_module": "@jupyter-widgets/controls",
            "_model_module_version": "1.5.0",
            "_model_name": "DescriptionStyleModel",
            "_view_count": null,
            "_view_module": "@jupyter-widgets/base",
            "_view_module_version": "1.2.0",
            "_view_name": "StyleView",
            "description_width": "initial"
          }
        },
        "31938de0c9784f9386951a819a766099": {
          "model_module": "@jupyter-widgets/base",
          "model_name": "LayoutModel",
          "model_module_version": "1.2.0",
          "state": {
            "_model_module": "@jupyter-widgets/base",
            "_model_module_version": "1.2.0",
            "_model_name": "LayoutModel",
            "_view_count": null,
            "_view_module": "@jupyter-widgets/base",
            "_view_module_version": "1.2.0",
            "_view_name": "LayoutView",
            "align_content": null,
            "align_items": null,
            "align_self": null,
            "border": null,
            "bottom": null,
            "display": null,
            "flex": null,
            "flex_flow": null,
            "grid_area": null,
            "grid_auto_columns": null,
            "grid_auto_flow": null,
            "grid_auto_rows": null,
            "grid_column": null,
            "grid_gap": null,
            "grid_row": null,
            "grid_template_areas": null,
            "grid_template_columns": null,
            "grid_template_rows": null,
            "height": null,
            "justify_content": null,
            "justify_items": null,
            "left": null,
            "margin": null,
            "max_height": null,
            "max_width": null,
            "min_height": null,
            "min_width": null,
            "object_fit": null,
            "object_position": null,
            "order": null,
            "overflow": null,
            "overflow_x": null,
            "overflow_y": null,
            "padding": null,
            "right": null,
            "top": null,
            "visibility": null,
            "width": null
          }
        },
        "d55b383020db4697ba4e7f4ea4832d36": {
          "model_module": "@jupyter-widgets/controls",
          "model_name": "DescriptionStyleModel",
          "model_module_version": "1.5.0",
          "state": {
            "_model_module": "@jupyter-widgets/controls",
            "_model_module_version": "1.5.0",
            "_model_name": "DescriptionStyleModel",
            "_view_count": null,
            "_view_module": "@jupyter-widgets/base",
            "_view_module_version": "1.2.0",
            "_view_name": "StyleView",
            "description_width": "initial"
          }
        },
        "b1aab111a5454ab78a72a5f7cf19806a": {
          "model_module": "@jupyter-widgets/base",
          "model_name": "LayoutModel",
          "model_module_version": "1.2.0",
          "state": {
            "_model_module": "@jupyter-widgets/base",
            "_model_module_version": "1.2.0",
            "_model_name": "LayoutModel",
            "_view_count": null,
            "_view_module": "@jupyter-widgets/base",
            "_view_module_version": "1.2.0",
            "_view_name": "LayoutView",
            "align_content": null,
            "align_items": null,
            "align_self": null,
            "border": null,
            "bottom": null,
            "display": null,
            "flex": null,
            "flex_flow": null,
            "grid_area": null,
            "grid_auto_columns": null,
            "grid_auto_flow": null,
            "grid_auto_rows": null,
            "grid_column": null,
            "grid_gap": null,
            "grid_row": null,
            "grid_template_areas": null,
            "grid_template_columns": null,
            "grid_template_rows": null,
            "height": null,
            "justify_content": null,
            "justify_items": null,
            "left": null,
            "margin": null,
            "max_height": null,
            "max_width": null,
            "min_height": null,
            "min_width": null,
            "object_fit": null,
            "object_position": null,
            "order": null,
            "overflow": null,
            "overflow_x": null,
            "overflow_y": null,
            "padding": null,
            "right": null,
            "top": null,
            "visibility": null,
            "width": null
          }
        },
        "9a6026302c784ac78cf3aec66d162f84": {
          "model_module": "@jupyter-widgets/controls",
          "model_name": "DescriptionStyleModel",
          "model_module_version": "1.5.0",
          "state": {
            "_model_module": "@jupyter-widgets/controls",
            "_model_module_version": "1.5.0",
            "_model_name": "DescriptionStyleModel",
            "_view_count": null,
            "_view_module": "@jupyter-widgets/base",
            "_view_module_version": "1.2.0",
            "_view_name": "StyleView",
            "description_width": "initial"
          }
        },
        "7ada92e02af54a608d913756353848b7": {
          "model_module": "@jupyter-widgets/base",
          "model_name": "LayoutModel",
          "model_module_version": "1.2.0",
          "state": {
            "_model_module": "@jupyter-widgets/base",
            "_model_module_version": "1.2.0",
            "_model_name": "LayoutModel",
            "_view_count": null,
            "_view_module": "@jupyter-widgets/base",
            "_view_module_version": "1.2.0",
            "_view_name": "LayoutView",
            "align_content": null,
            "align_items": null,
            "align_self": null,
            "border": null,
            "bottom": null,
            "display": null,
            "flex": null,
            "flex_flow": null,
            "grid_area": null,
            "grid_auto_columns": null,
            "grid_auto_flow": null,
            "grid_auto_rows": null,
            "grid_column": null,
            "grid_gap": null,
            "grid_row": null,
            "grid_template_areas": null,
            "grid_template_columns": null,
            "grid_template_rows": null,
            "height": null,
            "justify_content": null,
            "justify_items": null,
            "left": null,
            "margin": null,
            "max_height": null,
            "max_width": null,
            "min_height": null,
            "min_width": null,
            "object_fit": null,
            "object_position": null,
            "order": null,
            "overflow": null,
            "overflow_x": null,
            "overflow_y": null,
            "padding": null,
            "right": null,
            "top": null,
            "visibility": null,
            "width": null
          }
        },
        "8f3076d05fb0448ea76d61121f848e79": {
          "model_module": "@jupyter-widgets/controls",
          "model_name": "DescriptionStyleModel",
          "model_module_version": "1.5.0",
          "state": {
            "_model_module": "@jupyter-widgets/controls",
            "_model_module_version": "1.5.0",
            "_model_name": "DescriptionStyleModel",
            "_view_count": null,
            "_view_module": "@jupyter-widgets/base",
            "_view_module_version": "1.2.0",
            "_view_name": "StyleView",
            "description_width": "initial"
          }
        },
        "e35a943c14cf4b17880f66a8843b31d9": {
          "model_module": "@jupyter-widgets/base",
          "model_name": "LayoutModel",
          "model_module_version": "1.2.0",
          "state": {
            "_model_module": "@jupyter-widgets/base",
            "_model_module_version": "1.2.0",
            "_model_name": "LayoutModel",
            "_view_count": null,
            "_view_module": "@jupyter-widgets/base",
            "_view_module_version": "1.2.0",
            "_view_name": "LayoutView",
            "align_content": null,
            "align_items": null,
            "align_self": null,
            "border": null,
            "bottom": null,
            "display": null,
            "flex": null,
            "flex_flow": null,
            "grid_area": null,
            "grid_auto_columns": null,
            "grid_auto_flow": null,
            "grid_auto_rows": null,
            "grid_column": null,
            "grid_gap": null,
            "grid_row": null,
            "grid_template_areas": null,
            "grid_template_columns": null,
            "grid_template_rows": null,
            "height": null,
            "justify_content": null,
            "justify_items": null,
            "left": null,
            "margin": null,
            "max_height": null,
            "max_width": null,
            "min_height": null,
            "min_width": null,
            "object_fit": null,
            "object_position": null,
            "order": null,
            "overflow": null,
            "overflow_x": null,
            "overflow_y": null,
            "padding": null,
            "right": null,
            "top": null,
            "visibility": null,
            "width": null
          }
        },
        "a2c416f2de1f4342af3029da5caecf8a": {
          "model_module": "@jupyter-widgets/controls",
          "model_name": "ButtonStyleModel",
          "model_module_version": "1.5.0",
          "state": {
            "_model_module": "@jupyter-widgets/controls",
            "_model_module_version": "1.5.0",
            "_model_name": "ButtonStyleModel",
            "_view_count": null,
            "_view_module": "@jupyter-widgets/base",
            "_view_module_version": "1.2.0",
            "_view_name": "StyleView",
            "button_color": null,
            "font_weight": ""
          }
        },
        "dd12268b2da0448ca7cf4760ed3da83b": {
          "model_module": "@jupyter-widgets/base",
          "model_name": "LayoutModel",
          "model_module_version": "1.2.0",
          "state": {
            "_model_module": "@jupyter-widgets/base",
            "_model_module_version": "1.2.0",
            "_model_name": "LayoutModel",
            "_view_count": null,
            "_view_module": "@jupyter-widgets/base",
            "_view_module_version": "1.2.0",
            "_view_name": "LayoutView",
            "align_content": null,
            "align_items": null,
            "align_self": null,
            "border": null,
            "bottom": null,
            "display": null,
            "flex": null,
            "flex_flow": null,
            "grid_area": null,
            "grid_auto_columns": null,
            "grid_auto_flow": null,
            "grid_auto_rows": null,
            "grid_column": null,
            "grid_gap": null,
            "grid_row": null,
            "grid_template_areas": null,
            "grid_template_columns": null,
            "grid_template_rows": null,
            "height": null,
            "justify_content": null,
            "justify_items": null,
            "left": null,
            "margin": null,
            "max_height": null,
            "max_width": null,
            "min_height": null,
            "min_width": null,
            "object_fit": null,
            "object_position": null,
            "order": null,
            "overflow": null,
            "overflow_x": null,
            "overflow_y": null,
            "padding": null,
            "right": null,
            "top": null,
            "visibility": null,
            "width": null
          }
        }
      }
    }
  },
  "nbformat": 4,
  "nbformat_minor": 0
}